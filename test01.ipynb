{
 "cells": [
  {
   "cell_type": "markdown",
   "id": "dd2b740a-b6e4-4733-91f9-435b9d47b9e0",
   "metadata": {},
   "source": [
    "# Título Principal\n",
    "Bienvenido al notebook de prueba. Aquí veremos algunos ejemplos básicos en Python."
   ]
  },
  {
   "cell_type": "code",
   "execution_count": null,
   "id": "2a0f2707-6726-47e8-834c-c4b70988ab1a",
   "metadata": {},
   "outputs": [],
   "source": [
    "# Imprimir un saludo\n",
    "print(\"Hola Mundo!\")"
   ]
  },
  {
   "cell_type": "markdown",
   "id": "e258d5aa-380a-4315-854b-d3a7be9d494d",
   "metadata": {},
   "source": [
    "## Operaciones básicas\n",
    "Vamos a realizar algunas operaciones matemáticas básicas."
   ]
  },
  {
   "cell_type": "code",
   "execution_count": null,
   "id": "7d3ce393-7d22-4347-8999-3a3d3351f1cb",
   "metadata": {},
   "outputs": [],
   "source": [
    "# Suma de dos números\n",
    "x = 5\n",
    "y = 10\n",
    "resultado = x + y\n",
    "print(f\"El resultado de {x} + {y} es: {resultado}\")"
   ]
  },
  {
   "cell_type": "markdown",
   "id": "4a0ab6c3-b463-44bb-9d78-fba9842c23e1",
   "metadata": {},
   "source": [
    "## Gráficos\n",
    "A continuación, un simple gráfico usando Matplotlib."
   ]
  },
  {
   "cell_type": "code",
   "execution_count": null,
   "id": "79a39f0c-b8c8-42e4-a6f0-11da0cba8c49",
   "metadata": {},
   "outputs": [],
   "source": [
    "import matplotlib.pyplot as plt\n",
    "\n",
    "# Datos\n",
    "x = [1, 2, 3, 4]\n",
    "y = [1, 4, 9, 16]\n",
    "\n",
    "# Crear gráfico\n",
    "plt.plot(x, y)\n",
    "plt.xlabel('Eje X')\n",
    "plt.ylabel('Eje Y')\n",
    "plt.title('Gráfico de prueba')\n",
    "plt.grid(True)\n",
    "plt.show()"
   ]
  },
  {
   "cell_type": "code",
   "execution_count": null,
   "id": "f9961e83-55fe-4b1f-a927-da6f14769f37",
   "metadata": {},
   "outputs": [],
   "source": []
  }
 ],
 "metadata": {
  "kernelspec": {
   "display_name": "Python 3 (ipykernel)",
   "language": "python",
   "name": "python3"
  },
  "language_info": {
   "codemirror_mode": {
    "name": "ipython",
    "version": 3
   },
   "file_extension": ".py",
   "mimetype": "text/x-python",
   "name": "python",
   "nbconvert_exporter": "python",
   "pygments_lexer": "ipython3",
   "version": "3.10.12"
  }
 },
 "nbformat": 4,
 "nbformat_minor": 5
}
